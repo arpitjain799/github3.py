{
 "metadata": {
  "name": "",
  "signature": "sha256:2d234b400db23a8a564289d081cd262369729acb74813177cd991585e0f66fe9"
 },
 "nbformat": 3,
 "nbformat_minor": 0,
 "worksheets": [
  {
   "cells": [
    {
     "cell_type": "heading",
     "level": 1,
     "metadata": {},
     "source": [
      "Listing repositories by their owner"
     ]
    },
    {
     "cell_type": "code",
     "collapsed": false,
     "input": [
      "import github4"
     ],
     "language": "python",
     "metadata": {},
     "outputs": [],
     "prompt_number": 1
    },
    {
     "cell_type": "code",
     "collapsed": false,
     "input": [
      "for repository in github4.repositories_by('staticdev'):\n",
      "    print('{0} created at {0.created_at}'.format(repository))"
     ],
     "language": "python",
     "metadata": {},
     "outputs": [
      {
       "output_type": "stream",
       "stream": "stdout",
       "text": [
        "staticdev/betamax created at 2013-07-16 03:23:22+00:00\n",
        "staticdev/betamax_matchers created at 2014-07-19 18:51:39+00:00\n",
        "staticdev/catapultpgh created at 2013-02-11 17:16:43+00:00\n",
        "staticdev/charade created at 2012-11-28 03:24:20+00:00\n",
        "staticdev/clint created at 2013-02-10 21:09:02+00:00\n",
        "staticdev/contrib-hub created at 2013-11-30 18:36:55+00:00\n",
        "staticdev/crequests created at 2013-01-24 22:54:17+00:00\n",
        "staticdev/curryer created at 2013-11-10 02:03:42+00:00\n",
        "staticdev/c_libs created at 2012-06-11 14:45:35+00:00\n",
        "staticdev/ddg created at 2012-12-16 22:11:35+00:00\n",
        "staticdev/developer.github.com created at 2012-05-27 04:19:17+00:00\n",
        "staticdev/dream-python created at 2014-08-13 15:55:44+00:00\n",
        "staticdev/elephant created at 2013-03-27 18:25:03+00:00\n",
        "staticdev/euler.hs created at 2013-10-19 01:19:03+00:00\n",
        "staticdev/expecter created at 2012-07-25 03:02:58+00:00\n",
        "staticdev/format-geojson.clj created at 2013-10-25 22:17:20+00:00\n",
        "staticdev/ghsync created at 2012-10-17 13:49:42+00:00\n",
        "staticdev/git-hub created at 2012-10-05 19:35:45+00:00\n",
        "staticdev/GITenberg created at 2012-09-25 21:07:30+00:00\n",
        "staticdev/github-cli created at 2012-07-05 14:58:47+00:00\n",
        "staticdev/github4.py created at 2012-03-13 19:58:53+00:00\n",
        "staticdev/GitPython created at 2012-11-28 16:27:22+00:00\n",
        "staticdev/grequests created at 2012-12-30 23:04:12+00:00\n",
        "staticdev/gtk-vikb created at 2012-07-16 23:18:15+00:00\n",
        "staticdev/heroku-buildpack-python created at 2013-01-19 18:09:35+00:00\n",
        "staticdev/http11 created at 2014-07-21 01:57:47+00:00\n",
        "staticdev/httpbin created at 2013-07-19 18:53:30+00:00\n",
        "staticdev/hyper created at 2014-02-20 16:02:48+00:00\n",
        "staticdev/issues.py created at 2012-02-25 21:32:31+00:00\n",
        "staticdev/LendingClubAutoInvestor created at 2013-05-08 14:56:33+00:00\n",
        "staticdev/libyaml created at 2013-12-01 18:27:17+00:00\n",
        "staticdev/lyahfgg created at 2013-07-31 02:47:36+00:00\n",
        "staticdev/madison_geojson created at 2013-10-25 20:40:41+00:00\n",
        "staticdev/mccabe created at 2014-04-18 18:30:26+00:00\n",
        "staticdev/mixfaster created at 2012-06-30 00:13:21+00:00\n",
        "staticdev/mixminion created at 2011-09-06 13:34:15+00:00\n",
        "staticdev/mock_github_api created at 2012-12-21 23:14:08+00:00\n",
        "staticdev/nothub created at 2013-01-29 18:00:15+00:00\n",
        "staticdev/No_Agenda_Bat_Sig created at 2010-11-05 03:18:10+00:00\n",
        "staticdev/octokit.rb created at 2013-12-12 02:32:30+00:00\n",
        "staticdev/ordinary created at 2013-06-15 18:09:48+00:00\n",
        "staticdev/patch-converter created at 2012-11-26 13:52:57+00:00\n",
        "staticdev/pelican created at 2012-06-14 14:25:45+00:00\n",
        "staticdev/pelican-themes created at 2012-06-14 13:51:35+00:00\n",
        "staticdev/pep8 created at 2012-09-06 14:13:14+00:00\n",
        "staticdev/pip created at 2014-01-07 14:27:24+00:00\n",
        "staticdev/polynomials.py created at 2013-04-10 03:12:06+00:00\n",
        "staticdev/PyF-ck created at 2013-05-01 22:14:11+00:00\n",
        "staticdev/pyflakes created at 2014-07-23 15:06:17+00:00\n",
        "staticdev/pyflakes-old created at 2013-01-28 00:25:27+00:00\n",
        "staticdev/python-guide created at 2012-06-15 18:00:03+00:00\n",
        "staticdev/python-interview-questions created at 2014-08-13 02:32:38+00:00\n",
        "staticdev/pyyaml created at 2013-12-01 18:29:02+00:00\n",
        "staticdev/rack created at 2014-07-13 00:51:30+00:00\n",
        "staticdev/recipes created at 2013-01-25 04:31:44+00:00\n",
        "staticdev/repl_fun created at 2013-03-30 15:13:42+00:00\n",
        "staticdev/requests created at 2012-06-15 13:47:06+00:00\n",
        "staticdev/requests-data-schemes created at 2013-01-07 04:49:50+00:00\n",
        "staticdev/requests-ntlm created at 2014-07-18 21:32:31+00:00\n",
        "staticdev/requests-toolbelt created at 2013-12-29 21:19:08+00:00\n",
        "staticdev/requests.rb created at 2013-02-01 02:52:28+00:00\n",
        "staticdev/rfc3986 created at 2014-06-25 14:25:11+00:00\n",
        "staticdev/shipit created at 2013-05-22 19:32:18+00:00\n",
        "staticdev/solarized-pygment created at 2013-01-13 23:36:54+00:00\n",
        "staticdev/sprunge.py created at 2012-06-09 14:19:26+00:00\n",
        "staticdev/subscribed created at 2012-10-07 03:40:31+00:00\n",
        "staticdev/Todo.txt-python created at 2012-09-16 19:31:58+00:00\n",
        "staticdev/update_firefox created at 2012-06-19 01:56:02+00:00\n",
        "staticdev/uritemplate created at 2013-05-14 16:52:08+00:00\n",
        "staticdev/urllib3 created at 2013-12-04 03:04:13+00:00\n",
        "staticdev/vcr created at 2013-09-18 03:15:42+00:00\n",
        "staticdev/vim-stopsign created at 2013-09-03 13:26:03+00:00\n",
        "staticdev/www.gittip.com created at 2013-01-16 13:15:38+00:00\n",
        "staticdev/x11-ssh-askpass created at 2011-09-08 15:25:05+00:00\n",
        "staticdev/zero created at 2013-09-15 02:17:30+00:00\n",
        "staticdev/zero_buffer created at 2014-07-31 18:46:36+00:00\n"
       ]
      }
     ],
     "prompt_number": 2
    },
    {
     "cell_type": "markdown",
     "metadata": {},
     "source": [
      "You can also login and fork each of these repositories."
     ]
    },
    {
     "cell_type": "code",
     "collapsed": false,
     "input": [
      "gh = github4.login('username', 'password')"
     ],
     "language": "python",
     "metadata": {},
     "outputs": [],
     "prompt_number": 3
    },
    {
     "cell_type": "code",
     "collapsed": false,
     "input": [
      "for repository in gh.repositories_by('staticdev'):\n",
      "    repository.create_fork()"
     ],
     "language": "python",
     "metadata": {},
     "outputs": []
    },
    {
     "cell_type": "markdown",
     "metadata": {},
     "source": [
      "If you wanted to fork an organization to you, you could do the following: "
     ]
    },
    {
     "cell_type": "code",
     "collapsed": false,
     "input": [
      "for repository in gh.repositories_by('staticdev'):\n",
      "    repository.create_fork('my-organization')"
     ],
     "language": "python",
     "metadata": {},
     "outputs": []
    }
   ],
   "metadata": {}
  }
 ]
}
