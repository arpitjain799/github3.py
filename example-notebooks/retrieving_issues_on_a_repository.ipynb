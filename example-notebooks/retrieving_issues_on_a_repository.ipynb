{
 "metadata": {
  "name": "",
  "signature": "sha256:41b324ac4bdb6264f2a2aded77c9a351e233ca9a680d13755eb32864f541a747"
 },
 "nbformat": 3,
 "nbformat_minor": 0,
 "worksheets": [
  {
   "cells": [
    {
     "cell_type": "heading",
     "level": 1,
     "metadata": {},
     "source": [
      "Retrieving a repository's issues"
     ]
    },
    {
     "cell_type": "code",
     "collapsed": false,
     "input": [
      "import github4"
     ],
     "language": "python",
     "metadata": {},
     "outputs": [],
     "prompt_number": 1
    },
    {
     "cell_type": "code",
     "collapsed": false,
     "input": [
      "repo = github4.repository('staticdev', 'github4.py')"
     ],
     "language": "python",
     "metadata": {},
     "outputs": [],
     "prompt_number": 2
    },
    {
     "cell_type": "code",
     "collapsed": false,
     "input": [
      "for issue in repo.issues():\n",
      "    print('{0}#{1.number}: \"{1.title}\"\\n\\t{1.html_url}'.format(repo, issue))"
     ],
     "language": "python",
     "metadata": {},
     "outputs": [
      {
       "output_type": "stream",
       "stream": "stdout",
       "text": [
        "staticdev/github4.py#270: \"IPython docs\"\n",
        "\thttps://github.com/staticdev/github4.py/pull/270\n",
        "staticdev/github4.py#269: \"Deprecate old team members API. Add new API\"\n",
        "\thttps://github.com/staticdev/github4.py/issues/269\n",
        "staticdev/github4.py#263: \"Replace Repository#comments_on_commit with RepoCommit#comments\"\n",
        "\thttps://github.com/staticdev/github4.py/issues/263\n",
        "staticdev/github4.py#262: \"iter_notifications(all=[bool]) should work passing True\"\n",
        "\thttps://github.com/staticdev/github4.py/issues/262\n",
        "staticdev/github4.py#258: \"User Keys Are Now Immutable\"\n",
        "\thttps://github.com/staticdev/github4.py/issues/258\n",
        "staticdev/github4.py#257: \"New attributes for PullRequestReviewComment events\"\n",
        "\thttps://github.com/staticdev/github4.py/issues/257\n",
        "staticdev/github4.py#256: \"[New] Statuses\"\n",
        "\thttps://github.com/staticdev/github4.py/issues/256\n",
        "staticdev/github4.py#255: \"Malformed Tag Causes AttributeError in models.py\"\n",
        "\thttps://github.com/staticdev/github4.py/issues/255\n",
        "staticdev/github4.py#253: \"Pull request commits fields are not set\"\n",
        "\thttps://github.com/staticdev/github4.py/issues/253\n",
        "staticdev/github4.py#248: \"Switch to (absolute) relative imports to allow for vendoring\"\n",
        "\thttps://github.com/staticdev/github4.py/issues/248\n",
        "staticdev/github4.py#241: \"removed duplicate documentation\"\n",
        "\thttps://github.com/staticdev/github4.py/pull/241\n",
        "staticdev/github4.py#226: \"ETag support for single objects\"\n",
        "\thttps://github.com/staticdev/github4.py/issues/226\n",
        "staticdev/github4.py#217: \"API does not handle unicode well\"\n",
        "\thttps://github.com/staticdev/github4.py/issues/217\n",
        "staticdev/github4.py#206: \"Better documentation regarding a repo's issues\"\n",
        "\thttps://github.com/staticdev/github4.py/issues/206\n",
        "staticdev/github4.py#191: \"Start a branch for updating the docs\"\n",
        "\thttps://github.com/staticdev/github4.py/pull/191\n",
        "staticdev/github4.py#187: \"Document two factor auth\"\n",
        "\thttps://github.com/staticdev/github4.py/issues/187\n",
        "staticdev/github4.py#186: \"Support SNI for Releases API\"\n",
        "\thttps://github.com/staticdev/github4.py/issues/186\n",
        "staticdev/github4.py#159: \"Create documentation for testing github4.py\"\n",
        "\thttps://github.com/staticdev/github4.py/issues/159\n",
        "staticdev/github4.py#122: \"Roadmap for 1.0\"\n",
        "\thttps://github.com/staticdev/github4.py/issues/122\n",
        "staticdev/github4.py#79: \"Caching support!\"\n",
        "\thttps://github.com/staticdev/github4.py/issues/79\n"
       ]
      }
     ],
     "prompt_number": 4
    },
    {
     "cell_type": "markdown",
     "metadata": {},
     "source": [
      "You can also list closed issues."
     ]
    },
    {
     "cell_type": "code",
     "collapsed": false,
     "input": [
      "repo = github4.repository('staticdev', 'requests-toolbelt')"
     ],
     "language": "python",
     "metadata": {},
     "outputs": [],
     "prompt_number": 5
    },
    {
     "cell_type": "code",
     "collapsed": false,
     "input": [
      "for issue in repo.issues(state='closed'):\n",
      "    print('{0}#{1.number}: \"{1.title}\"\\n\\t{1.html_url}'.format(repo, issue))"
     ],
     "language": "python",
     "metadata": {},
     "outputs": [
      {
       "output_type": "stream",
       "stream": "stdout",
       "text": [
        "staticdev/requests-toolbelt#36: \"Some fields do not get uploaded\"\n",
        "\thttps://github.com/staticdev/requests-toolbelt/issues/36\n",
        "staticdev/requests-toolbelt#35: \"Add ssl_version to the list of attributes\"\n",
        "\thttps://github.com/staticdev/requests-toolbelt/pull/35\n",
        "staticdev/requests-toolbelt#34: \"SSLAdapter crashes if used with multiprocessing\"\n",
        "\thttps://github.com/staticdev/requests-toolbelt/issues/34\n",
        "staticdev/requests-toolbelt#33: \"Add support for multipart/mixed\"\n",
        "\thttps://github.com/staticdev/requests-toolbelt/issues/33\n",
        "staticdev/requests-toolbelt#31: \"MultipartEncoder.read() returns less than 8192 bytes even when more bytes are left\"\n",
        "\thttps://github.com/staticdev/requests-toolbelt/issues/31\n",
        "staticdev/requests-toolbelt#29: \"Multipart encoder cannot be reused\"\n",
        "\thttps://github.com/staticdev/requests-toolbelt/issues/29\n",
        "staticdev/requests-toolbelt#28: \"GuessAuth\"\n",
        "\thttps://github.com/staticdev/requests-toolbelt/pull/28\n",
        "staticdev/requests-toolbelt#27: \"Request for Comments: Implement RFC 5987\"\n",
        "\thttps://github.com/staticdev/requests-toolbelt/issues/27\n",
        "staticdev/requests-toolbelt#25: \"Import authors to setup.py\"\n",
        "\thttps://github.com/staticdev/requests-toolbelt/pull/25\n",
        "staticdev/requests-toolbelt#24: \"Import metadata from package to setup.py\"\n",
        "\thttps://github.com/staticdev/requests-toolbelt/pull/24\n",
        "staticdev/requests-toolbelt#23: \"Add encoding comment to `*.py`\"\n",
        "\thttps://github.com/staticdev/requests-toolbelt/pull/23\n",
        "staticdev/requests-toolbelt#22: \"Add Monitor for MultipartEncoder\"\n",
        "\thttps://github.com/staticdev/requests-toolbelt/pull/22\n",
        "staticdev/requests-toolbelt#20: \"README.rst: minor edits, syntax highlighting\"\n",
        "\thttps://github.com/staticdev/requests-toolbelt/pull/20\n",
        "staticdev/requests-toolbelt#18: \"Slightly refactored MultipartEncoder + improved unit tests\"\n",
        "\thttps://github.com/staticdev/requests-toolbelt/pull/18\n",
        "staticdev/requests-toolbelt#17: \"MultipartEncoder sometimes add bytes\"\n",
        "\thttps://github.com/staticdev/requests-toolbelt/issues/17\n",
        "staticdev/requests-toolbelt#16: \"`MultipartEncoder` not fully compliant with RFC 1521\"\n",
        "\thttps://github.com/staticdev/requests-toolbelt/issues/16\n",
        "staticdev/requests-toolbelt#15: \"Adding Multipart Decoder, redux\"\n",
        "\thttps://github.com/staticdev/requests-toolbelt/pull/15\n",
        "staticdev/requests-toolbelt#14: \"Added MultipartDecoder.\"\n",
        "\thttps://github.com/staticdev/requests-toolbelt/pull/14\n",
        "staticdev/requests-toolbelt#13: \"add explicit utf-8 encoding\"\n",
        "\thttps://github.com/staticdev/requests-toolbelt/pull/13\n",
        "staticdev/requests-toolbelt#12: \"MultipartEncoder: added callback support and bytes read counter\"\n",
        "\thttps://github.com/staticdev/requests-toolbelt/pull/12\n",
        "staticdev/requests-toolbelt#11: \"Get version info from a file that actually exists\"\n",
        "\thttps://github.com/staticdev/requests-toolbelt/pull/11\n",
        "staticdev/requests-toolbelt#10: \"pip install fails with requests 1.2.3\"\n",
        "\thttps://github.com/staticdev/requests-toolbelt/issues/10\n",
        "staticdev/requests-toolbelt#9: \"'file' does not have the buffer interface\"\n",
        "\thttps://github.com/staticdev/requests-toolbelt/issues/9\n",
        "staticdev/requests-toolbelt#8: \"Invalid multipart encoding with a file\"\n",
        "\thttps://github.com/staticdev/requests-toolbelt/pull/8\n",
        "staticdev/requests-toolbelt#7: \"Many docs updates\"\n",
        "\thttps://github.com/staticdev/requests-toolbelt/pull/7\n",
        "staticdev/requests-toolbelt#6: \"Mention SSLAdapter in README.\"\n",
        "\thttps://github.com/staticdev/requests-toolbelt/pull/6\n",
        "staticdev/requests-toolbelt#5: \"Include the ever-popular SSLAdapter.\"\n",
        "\thttps://github.com/staticdev/requests-toolbelt/pull/5\n",
        "staticdev/requests-toolbelt#4: \"Attempt to limit how much is ever actually in memory\"\n",
        "\thttps://github.com/staticdev/requests-toolbelt/pull/4\n",
        "staticdev/requests-toolbelt#3: \"User agent constructor.\"\n",
        "\thttps://github.com/staticdev/requests-toolbelt/pull/3\n",
        "staticdev/requests-toolbelt#2: \"README fixes\"\n",
        "\thttps://github.com/staticdev/requests-toolbelt/pull/2\n",
        "staticdev/requests-toolbelt#1: \"Uploader does not really stream\"\n",
        "\thttps://github.com/staticdev/requests-toolbelt/issues/1\n"
       ]
      }
     ],
     "prompt_number": 6
    },
    {
     "cell_type": "markdown",
     "metadata": {},
     "source": [
      "Finally, you can list `all` issues. This time, let's change the direction in which we list them."
     ]
    },
    {
     "cell_type": "code",
     "collapsed": false,
     "input": [
      "for issue in repo.issues(state='all', direction='asc'):\n",
      "    print('{0}#{1.number}: \"{1.title}\"\\n\\t{1.html_url}'.format(repo, issue))"
     ],
     "language": "python",
     "metadata": {},
     "outputs": [
      {
       "output_type": "stream",
       "stream": "stdout",
       "text": [
        "staticdev/requests-toolbelt#1: \"Uploader does not really stream\"\n",
        "\thttps://github.com/staticdev/requests-toolbelt/issues/1\n",
        "staticdev/requests-toolbelt#2: \"README fixes\"\n",
        "\thttps://github.com/staticdev/requests-toolbelt/pull/2\n",
        "staticdev/requests-toolbelt#3: \"User agent constructor.\"\n",
        "\thttps://github.com/staticdev/requests-toolbelt/pull/3\n",
        "staticdev/requests-toolbelt#4: \"Attempt to limit how much is ever actually in memory\"\n",
        "\thttps://github.com/staticdev/requests-toolbelt/pull/4\n",
        "staticdev/requests-toolbelt#5: \"Include the ever-popular SSLAdapter.\"\n",
        "\thttps://github.com/staticdev/requests-toolbelt/pull/5\n",
        "staticdev/requests-toolbelt#6: \"Mention SSLAdapter in README.\"\n",
        "\thttps://github.com/staticdev/requests-toolbelt/pull/6\n",
        "staticdev/requests-toolbelt#7: \"Many docs updates\"\n",
        "\thttps://github.com/staticdev/requests-toolbelt/pull/7\n",
        "staticdev/requests-toolbelt#8: \"Invalid multipart encoding with a file\"\n",
        "\thttps://github.com/staticdev/requests-toolbelt/pull/8\n",
        "staticdev/requests-toolbelt#9: \"'file' does not have the buffer interface\"\n",
        "\thttps://github.com/staticdev/requests-toolbelt/issues/9\n",
        "staticdev/requests-toolbelt#10: \"pip install fails with requests 1.2.3\"\n",
        "\thttps://github.com/staticdev/requests-toolbelt/issues/10\n",
        "staticdev/requests-toolbelt#11: \"Get version info from a file that actually exists\"\n",
        "\thttps://github.com/staticdev/requests-toolbelt/pull/11\n",
        "staticdev/requests-toolbelt#12: \"MultipartEncoder: added callback support and bytes read counter\"\n",
        "\thttps://github.com/staticdev/requests-toolbelt/pull/12\n",
        "staticdev/requests-toolbelt#13: \"add explicit utf-8 encoding\"\n",
        "\thttps://github.com/staticdev/requests-toolbelt/pull/13\n",
        "staticdev/requests-toolbelt#14: \"Added MultipartDecoder.\"\n",
        "\thttps://github.com/staticdev/requests-toolbelt/pull/14\n",
        "staticdev/requests-toolbelt#15: \"Adding Multipart Decoder, redux\"\n",
        "\thttps://github.com/staticdev/requests-toolbelt/pull/15\n",
        "staticdev/requests-toolbelt#16: \"`MultipartEncoder` not fully compliant with RFC 1521\"\n",
        "\thttps://github.com/staticdev/requests-toolbelt/issues/16\n",
        "staticdev/requests-toolbelt#17: \"MultipartEncoder sometimes add bytes\"\n",
        "\thttps://github.com/staticdev/requests-toolbelt/issues/17\n",
        "staticdev/requests-toolbelt#18: \"Slightly refactored MultipartEncoder + improved unit tests\"\n",
        "\thttps://github.com/staticdev/requests-toolbelt/pull/18\n",
        "staticdev/requests-toolbelt#19: \"IPv6 Transport Adapter\"\n",
        "\thttps://github.com/staticdev/requests-toolbelt/issues/19\n",
        "staticdev/requests-toolbelt#20: \"README.rst: minor edits, syntax highlighting\"\n",
        "\thttps://github.com/staticdev/requests-toolbelt/pull/20\n",
        "staticdev/requests-toolbelt#21: \"WIP: AuthHandler\"\n",
        "\thttps://github.com/staticdev/requests-toolbelt/pull/21\n",
        "staticdev/requests-toolbelt#22: \"Add Monitor for MultipartEncoder\"\n",
        "\thttps://github.com/staticdev/requests-toolbelt/pull/22\n",
        "staticdev/requests-toolbelt#23: \"Add encoding comment to `*.py`\"\n",
        "\thttps://github.com/staticdev/requests-toolbelt/pull/23\n",
        "staticdev/requests-toolbelt#24: \"Import metadata from package to setup.py\"\n",
        "\thttps://github.com/staticdev/requests-toolbelt/pull/24\n",
        "staticdev/requests-toolbelt#25: \"Import authors to setup.py\"\n",
        "\thttps://github.com/staticdev/requests-toolbelt/pull/25\n",
        "staticdev/requests-toolbelt#26: \"illegal seek uploading data stream\"\n",
        "\thttps://github.com/staticdev/requests-toolbelt/issues/26\n",
        "staticdev/requests-toolbelt#27: \"Request for Comments: Implement RFC 5987\"\n",
        "\thttps://github.com/staticdev/requests-toolbelt/issues/27\n",
        "staticdev/requests-toolbelt#28: \"GuessAuth\"\n",
        "\thttps://github.com/staticdev/requests-toolbelt/pull/28\n",
        "staticdev/requests-toolbelt#29: \"Multipart encoder cannot be reused\"\n",
        "\thttps://github.com/staticdev/requests-toolbelt/issues/29\n",
        "staticdev/requests-toolbelt#30: \"File object not closed\"\n",
        "\thttps://github.com/staticdev/requests-toolbelt/issues/30\n",
        "staticdev/requests-toolbelt#31: \"MultipartEncoder.read() returns less than 8192 bytes even when more bytes are left\"\n",
        "\thttps://github.com/staticdev/requests-toolbelt/issues/31\n",
        "staticdev/requests-toolbelt#32: \"Duplicated content in user.rst and README.rst?\"\n",
        "\thttps://github.com/staticdev/requests-toolbelt/issues/32\n",
        "staticdev/requests-toolbelt#33: \"Add support for multipart/mixed\"\n",
        "\thttps://github.com/staticdev/requests-toolbelt/issues/33\n",
        "staticdev/requests-toolbelt#34: \"SSLAdapter crashes if used with multiprocessing\"\n",
        "\thttps://github.com/staticdev/requests-toolbelt/issues/34\n",
        "staticdev/requests-toolbelt#35: \"Add ssl_version to the list of attributes\"\n",
        "\thttps://github.com/staticdev/requests-toolbelt/pull/35\n",
        "staticdev/requests-toolbelt#36: \"Some fields do not get uploaded\"\n",
        "\thttps://github.com/staticdev/requests-toolbelt/issues/36\n",
        "staticdev/requests-toolbelt#37: \"Improve documentation\"\n",
        "\thttps://github.com/staticdev/requests-toolbelt/issues/37\n",
        "staticdev/requests-toolbelt#38: \"Add from_file classmethod to StreamingIterator\"\n",
        "\thttps://github.com/staticdev/requests-toolbelt/issues/38\n",
        "staticdev/requests-toolbelt#39: \"MultipartEncoder int encoding issues\"\n",
        "\thttps://github.com/staticdev/requests-toolbelt/issues/39\n"
       ]
      }
     ],
     "prompt_number": 7
    },
    {
     "cell_type": "heading",
     "level": 2,
     "metadata": {},
     "source": [
      "An alternative method to retrieving issues on a repository"
     ]
    },
    {
     "cell_type": "code",
     "collapsed": false,
     "input": [
      "import github4"
     ],
     "language": "python",
     "metadata": {},
     "outputs": [],
     "prompt_number": 1
    },
    {
     "cell_type": "code",
     "collapsed": false,
     "input": [
      "for issue in github4.issues_on('staticdev', 'requests-toolbelt'):\n",
      "        print('staticdev/requests-toolbelt#{0.number}: \"{0.title}\"\\n\\t{0.html_url}'.format(issue))"
     ],
     "language": "python",
     "metadata": {},
     "outputs": [
      {
       "output_type": "stream",
       "stream": "stdout",
       "text": [
        "staticdev/requests-toolbelt#39: \"MultipartEncoder int encoding issues\"\n",
        "\thttps://github.com/staticdev/requests-toolbelt/issues/39\n",
        "staticdev/requests-toolbelt#38: \"Add from_file classmethod to StreamingIterator\"\n",
        "\thttps://github.com/staticdev/requests-toolbelt/issues/38\n",
        "staticdev/requests-toolbelt#37: \"Improve documentation\"\n",
        "\thttps://github.com/staticdev/requests-toolbelt/issues/37\n",
        "staticdev/requests-toolbelt#32: \"Duplicated content in user.rst and README.rst?\"\n",
        "\thttps://github.com/staticdev/requests-toolbelt/issues/32\n",
        "staticdev/requests-toolbelt#30: \"File object not closed\"\n",
        "\thttps://github.com/staticdev/requests-toolbelt/issues/30\n",
        "staticdev/requests-toolbelt#26: \"illegal seek uploading data stream\"\n",
        "\thttps://github.com/staticdev/requests-toolbelt/issues/26\n",
        "staticdev/requests-toolbelt#21: \"WIP: AuthHandler\"\n",
        "\thttps://github.com/staticdev/requests-toolbelt/pull/21\n",
        "staticdev/requests-toolbelt#19: \"IPv6 Transport Adapter\"\n",
        "\thttps://github.com/staticdev/requests-toolbelt/issues/19\n"
       ]
      }
     ],
     "prompt_number": 3
    },
    {
     "cell_type": "code",
     "collapsed": false,
     "input": [],
     "language": "python",
     "metadata": {},
     "outputs": []
    }
   ],
   "metadata": {}
  }
 ]
}
